{
 "cells": [
  {
   "cell_type": "markdown",
   "metadata": {},
   "source": [
    "# Fiddling with data from the General Election 2017\n",
    "\n",
    "* Tweet data collected directly from Twitter REST API, using a method loosely based on <a href=\"https://www.karambelkar.info/2015/01/how-to-use-twitters-search-rest-api-most-effectively./\">this tutorial</a> \n",
    "\n",
    "* Election result data tables from <a href=\"http://researchbriefings.parliament.uk/ResearchBriefing/Summary/CBP-7979\">this Parliament briefing</a> which were cleaned (just reformatting timestamp and removing commas from place names)"
   ]
  },
  {
   "cell_type": "code",
   "execution_count": null,
   "metadata": {
    "run_control": {
     "read_only": false
    }
   },
   "outputs": [],
   "source": [
    "# Standard data analysis imports\n",
    "import pandas as pd\n",
    "from pandasql import sqldf\n",
    "import datetime\n",
    "from textwrap import wrap\n",
    "import numpy as np\n",
    "import matplotlib.pyplot as plt\n",
    "import matplotlib.dates as mdates\n",
    "from matplotlib import gridspec\n",
    "import psycopg2 as pg\n",
    "import pandas.io.sql as psqlg\n",
    "import matplotlib.patches as mpatches\n",
    "\n",
    "# Setting plots to use ggplot and some basic defaults for titles \n",
    "%matplotlib inline\n",
    "plt.style.use('ggplot')\n",
    "plt.rc('font', size=20) \n",
    "plt.rc('axes', titlesize=15)\n",
    "plt.rc('axes', labelsize=15)\n",
    "plt.rc('xtick', labelsize=15)\n",
    "plt.rc('ytick', labelsize=15)\n",
    "plt.rc('legend', fontsize=15)\n",
    "plt.rc('figure', titlesize=15)"
   ]
  },
  {
   "cell_type": "code",
   "execution_count": null,
   "metadata": {
    "run_control": {
     "read_only": false
    }
   },
   "outputs": [],
   "source": [
    "# Read in the combined table\n",
    "ge2017_df = pd.read_csv('data/hocl_ge2017_combined.csv')\n",
    "ge2017_df.head(5)"
   ]
  },
  {
   "cell_type": "code",
   "execution_count": null,
   "metadata": {
    "run_control": {
     "read_only": false
    }
   },
   "outputs": [],
   "source": [
    "# View basic information using describe()\n",
    "ge2017_df.describe()"
   ]
  },
  {
   "cell_type": "code",
   "execution_count": null,
   "metadata": {
    "run_control": {
     "read_only": false
    }
   },
   "outputs": [],
   "source": [
    "# Calculate the turnout percentage from the valid votes as a percentage of the electorate\n",
    "ge2017_df['turnout'] = ge2017_df['valid_votes'] / ge2017_df['electorate']"
   ]
  },
  {
   "cell_type": "code",
   "execution_count": null,
   "metadata": {
    "run_control": {
     "read_only": false
    }
   },
   "outputs": [],
   "source": [
    "# Getting various interesting mins and maxes based on the describe()\n",
    "\n",
    "highest_turnout = ge2017_df[ge2017_df['turnout'] > 0.795]\n",
    "lowest_turnout =  ge2017_df[ge2017_df['turnout'] < 0.531]\n",
    "\n",
    "greatest_share =  ge2017_df[ge2017_df['share'] > 0.857]\n",
    "lowest_winning_share = ge2017_df[ge2017_df['share'] < 0.293]\n",
    "\n",
    "highest_majority = ge2017_df[ge2017_df['majority'] == 42214]\n",
    "smallest_majority = ge2017_df[ge2017_df['majority'] == 2]\n",
    "\n",
    "highest_invalid_votes = ge2017_df[ge2017_df['invalid_votes'] == 1967]\n",
    "\n",
    "largest_electorate = ge2017_df[ge2017_df['electorate'] == 110683]\n",
    "smallest_electorate = ge2017_df[ge2017_df['electorate'] == 21301]\n",
    "\n",
    "print('\\nhighest_turnout')\n",
    "print(highest_turnout)\n",
    "print('\\nlowest_turnout')\n",
    "print(lowest_turnout)\n",
    "print('\\ngreatest_share')\n",
    "print(greatest_share)\n",
    "print('\\nlowest_winning_share')\n",
    "print(lowest_winning_share)\n",
    "print('\\nhighest_majority')\n",
    "print(highest_majority)\n",
    "print('\\nsmallest_majority')\n",
    "print(smallest_majority)\n",
    "print('\\nhighest_invalid_votes')\n",
    "print(highest_invalid_votes)\n",
    "print('\\nlargest_electorate')\n",
    "print(largest_electorate)\n",
    "print('\\nsmallest_electorate')\n",
    "print(smallest_electorate)"
   ]
  },
  {
   "cell_type": "code",
   "execution_count": null,
   "metadata": {
    "run_control": {
     "read_only": false
    }
   },
   "outputs": [],
   "source": [
    "# Selecting only the required data, and converting the declaration time to a proper datetime\n",
    "ge2017_sel = ge2017_df[['constituency_name','first_party', 'declaration_time', 'turnout', 'share']]\n",
    "ge2017_sel['declaration_time'] = pd.to_datetime(ge2017_sel['declaration_time'], dayfirst=True)\n",
    "ge2017_sel.head(10)"
   ]
  },
  {
   "cell_type": "code",
   "execution_count": null,
   "metadata": {
    "run_control": {
     "read_only": false
    }
   },
   "outputs": [],
   "source": [
    "ge2017_sel.dtypes"
   ]
  },
  {
   "cell_type": "code",
   "execution_count": null,
   "metadata": {
    "run_control": {
     "read_only": false
    }
   },
   "outputs": [],
   "source": [
    "# We only have tweet data up to 8am, so need to find which contituencies declared after that time\n",
    "ge2017_sel[ge2017_sel['declaration_time'] > '2017-06-09 08:00:00']"
   ]
  },
  {
   "cell_type": "code",
   "execution_count": null,
   "metadata": {
    "run_control": {
     "read_only": false
    },
    "scrolled": true
   },
   "outputs": [],
   "source": [
    "# Exclude these constituencies from the dataframe\n",
    "ge2017_sel = ge2017_sel[ge2017_sel['declaration_time'] < '2017-06-09 08:00:00']\n",
    "ge2017_sel.head(10)"
   ]
  },
  {
   "cell_type": "code",
   "execution_count": null,
   "metadata": {
    "run_control": {
     "read_only": false
    }
   },
   "outputs": [],
   "source": [
    "# Get the unique values of 'first_party' as an array\n",
    "parties = ge2017_sel['first_party'].unique()\n",
    "parties"
   ]
  },
  {
   "cell_type": "code",
   "execution_count": null,
   "metadata": {
    "run_control": {
     "read_only": false
    }
   },
   "outputs": [],
   "source": [
    "# Then make a dict with an appropriate colour for each party\n",
    "party_col_dict = dict([(\"Lab\", \"red\"), (\"Con\", \"blue\"), (\"LD\", \"orange\"), (\"SNP\", \"yellow\"),\n",
    "                      (\"Green\", \"green\"), (\"Ind\", \"purple\"), (\"PC\", \"lime\"), (\"DUP\", \"maroon\"), (\"SF\",\"teal\"),\n",
    "                      (\"Spk\",\"magenta\")])\n",
    "party_col_dict"
   ]
  },
  {
   "cell_type": "code",
   "execution_count": null,
   "metadata": {
    "run_control": {
     "read_only": false
    }
   },
   "outputs": [],
   "source": [
    "tweets_df = pd.read_csv('data/election_night_tweets_time_grouped.csv')\n",
    "tweets_df['date_time'] = pd.to_datetime(tweets_df['date_time'], dayfirst=True)\n",
    "tweets_df.head(10)"
   ]
  },
  {
   "cell_type": "code",
   "execution_count": null,
   "metadata": {
    "run_control": {
     "read_only": false
    }
   },
   "outputs": [],
   "source": [
    "# Get unique tweet subjects\n",
    "tweet_subjects = tweets_df['subject'].unique()\n",
    "tweet_subjects"
   ]
  },
  {
   "cell_type": "code",
   "execution_count": null,
   "metadata": {
    "run_control": {
     "read_only": false
    }
   },
   "outputs": [],
   "source": [
    "index = [0, 2, 5, 6, 7, 8, 9]\n",
    "party_subjects = np.delete(tweet_subjects, index)\n",
    "party_subjects"
   ]
  },
  {
   "cell_type": "code",
   "execution_count": null,
   "metadata": {
    "run_control": {
     "read_only": false
    }
   },
   "outputs": [],
   "source": [
    "tweet_subj_col_dict = dict([(\" Labour Seats\", \"red\"), (\" Conservative Seats\", \"blue\"), (\" Lib Dem Seats\", \"orange\"), (\" SNP Seats\", \"yellow\"),\n",
    "                      (\" \\\"exit poll\\\" OR #exitpoll\", \"magenta\"), (\" \\\"hung parliament\\\" OR #hungparliament\", \"cyan\")])\n",
    "tweet_subj_col_dict"
   ]
  },
  {
   "cell_type": "code",
   "execution_count": null,
   "metadata": {
    "run_control": {
     "read_only": false
    },
    "scrolled": true
   },
   "outputs": [],
   "source": [
    "index = [0, 1, 2, 3, 4, 5, 7, 9, 10]\n",
    "non_party_subjects = np.delete(tweet_subjects, index)\n",
    "non_party_subjects"
   ]
  },
  {
   "cell_type": "code",
   "execution_count": null,
   "metadata": {
    "run_control": {
     "read_only": false
    }
   },
   "outputs": [],
   "source": [
    "ge2017_sel.describe()"
   ]
  },
  {
   "cell_type": "code",
   "execution_count": null,
   "metadata": {
    "run_control": {
     "read_only": false
    }
   },
   "outputs": [],
   "source": [
    "# Build a dict of 'interesting' seats to annotate on the plot\n",
    "key_moments = {}\n",
    "\n",
    "key_moments['sheffield_hallam'] = \\\n",
    "    ([pd.DataFrame(ge2017_sel[ge2017_sel['constituency_name'] == 'Sheffield Hallam']['declaration_time']).at[22, 'declaration_time'],\n",
    "    pd.DataFrame(ge2017_sel[ge2017_sel['constituency_name'] == 'Sheffield Hallam']['share']).at[22, 'share'],\n",
    "     \"Nick Clegg (Liberal Democrats)\\nloses Sheffield Hallam\"])\n",
    "\n",
    "key_moments['newcastle'] = \\\n",
    "    ([pd.DataFrame(ge2017_sel[ge2017_sel['constituency_name'] == 'Newcastle Upon Tyne Central']['declaration_time']).at[565, 'declaration_time'],\n",
    "    pd.DataFrame(ge2017_sel[ge2017_sel['constituency_name'] == 'Newcastle Upon Tyne Central']['share']).at[565, 'share'],\n",
    "     \"Newcastle Upon Tyne Central declares first,\\nbeating Houghton and Sunderland South\\nfor the first time since 1992\"])\n",
    "\n",
    "key_moments['hackney'] = \\\n",
    "    ([pd.DataFrame(ge2017_sel[ge2017_sel['constituency_name'] == 'Hackney North and Stoke Newington']['declaration_time']).at[629, 'declaration_time'],\n",
    "    pd.DataFrame(ge2017_sel[ge2017_sel['constituency_name'] == 'Hackney North and Stoke Newington']['share']).at[629, 'share'],\n",
    "     \"Diane Abbott (Labour) increases majority in\\nHackney North & Stoke Newington\"])\n",
    "\n",
    "key_moments['gordon'] = \\\n",
    "    ([pd.DataFrame(ge2017_sel[ge2017_sel['constituency_name'] == 'Gordon']['declaration_time']).at[43, 'declaration_time'],\n",
    "    pd.DataFrame(ge2017_sel[ge2017_sel['constituency_name'] == 'Gordon']['share']).at[43, 'share'],\n",
    "     \"Alex Salmond (SNP) loses Gordon\"])\n",
    "\n",
    "key_moments['islington'] = \\\n",
    "    ([pd.DataFrame(ge2017_sel[ge2017_sel['constituency_name'] == 'Islington North']['declaration_time']).at[625, 'declaration_time'],\n",
    "    pd.DataFrame(ge2017_sel[ge2017_sel['constituency_name'] == 'Islington North']['share']).at[625, 'share'],\n",
    "     \"Jeremy Corbyn wins Islington North\"])\n",
    "\n",
    "key_moments['maidenhead'] = \\\n",
    "    ([pd.DataFrame(ge2017_sel[ge2017_sel['constituency_name'] == 'Maidenhead']['declaration_time']).at[564, 'declaration_time'],\n",
    "    pd.DataFrame(ge2017_sel[ge2017_sel['constituency_name'] == 'Maidenhead']['share']).at[564, 'share'],\n",
    "     \"Prime Minister Theresa May wins Maidenhead\\n(defeating Lord Buckethead)\"])\n",
    "\n",
    "key_moments['twickenham'] = \\\n",
    "    ([pd.DataFrame(ge2017_sel[ge2017_sel['constituency_name'] == 'Twickenham']['declaration_time']).at[237, 'declaration_time'],\n",
    "    pd.DataFrame(ge2017_sel[ge2017_sel['constituency_name'] == 'Twickenham']['share']).at[237, 'share'],\n",
    "     \"Vince Cable returns to Parliament\\nfor Twickenham, which also has\\nthe highest turnout (79.52%)\"])\n",
    "    \n",
    "key_moments['glasgow_ne'] = \\\n",
    "    ([pd.DataFrame(ge2017_sel[ge2017_sel['constituency_name'] == 'Glasgow North East']['declaration_time']).at[63, 'declaration_time'],\n",
    "    pd.DataFrame(ge2017_sel[ge2017_sel['constituency_name'] == 'Glasgow North East']['share']).at[63, 'share'],\n",
    "     \"Lowest turnout\\nGlasgow North East (53.019%)\"])\n",
    "    \n",
    "key_moments['liv_walton'] = \\\n",
    "    ([pd.DataFrame(ge2017_sel[ge2017_sel['constituency_name'] == 'Liverpool Walton']['declaration_time']).at[650, 'declaration_time'],\n",
    "    pd.DataFrame(ge2017_sel[ge2017_sel['constituency_name'] == 'Liverpool Walton']['share']).at[650, 'share'],\n",
    "     \"Largest vote share\\nLiverpool Walton (Labour - 85.73%)\"])\n",
    "\n",
    "key_moments['ceredigion'] = \\\n",
    "    ([pd.DataFrame(ge2017_sel[ge2017_sel['constituency_name'] == 'Ceredigion']['declaration_time']).at[1, 'declaration_time'],\n",
    "    pd.DataFrame(ge2017_sel[ge2017_sel['constituency_name'] == 'Ceredigion']['share']).at[1, 'share'],\n",
    "     \"Smallest (winning) vote share\\nCeredigion (29.23%)\"])\n",
    "    \n",
    "key_moments['knowsley'] = \\\n",
    "    ([pd.DataFrame(ge2017_sel[ge2017_sel['constituency_name'] == 'Knowsley']['declaration_time']).at[649, 'declaration_time'],\n",
    "    pd.DataFrame(ge2017_sel[ge2017_sel['constituency_name'] == 'Knowsley']['share']).at[649, 'share'],\n",
    "     \"Largest vote majority\\nKnowsley (Labour - 42214)\"])\n",
    "\n",
    "key_moments['ne_fife'] = \\\n",
    "    ([pd.DataFrame(ge2017_sel[ge2017_sel['constituency_name'] == 'North East Fife']['declaration_time']).at[4, 'declaration_time'],\n",
    "    pd.DataFrame(ge2017_sel[ge2017_sel['constituency_name'] == 'North East Fife']['share']).at[4, 'share'],\n",
    "     \"Smallest vote majority\\nNorth East Fife (SNP - 2)\"])\n",
    "    \n",
    "key_moments['bucks'] = \\\n",
    "    ([pd.DataFrame(ge2017_sel[ge2017_sel['constituency_name'] == 'Buckingham']['declaration_time']).at[568, 'declaration_time'],\n",
    "    pd.DataFrame(ge2017_sel[ge2017_sel['constituency_name'] == 'Buckingham']['share']).at[568, 'share'],\n",
    "     \"The Speaker John Bercow\\nwins Buckingham, which also has\\nhighest number of invalid votes\"])\n",
    "    \n",
    "key_moments['iow'] = \\\n",
    "    ([pd.DataFrame(ge2017_sel[ge2017_sel['constituency_name'] == 'Isle Of Wight']['declaration_time']).at[203, 'declaration_time'],\n",
    "    pd.DataFrame(ge2017_sel[ge2017_sel['constituency_name'] == 'Isle Of Wight']['share']).at[203, 'share'],\n",
    "     \"Largest constituency\\nIsle of Wight\"])\n",
    "\n",
    "key_moments['eileanan'] = \\\n",
    "    ([pd.DataFrame(ge2017_sel[ge2017_sel['constituency_name'] == 'Na h-Eileanan An Iar']['declaration_time']).at[40, 'declaration_time'],\n",
    "    pd.DataFrame(ge2017_sel[ge2017_sel['constituency_name'] == 'Na h-Eileanan An Iar']['share']).at[40, 'share'],\n",
    "     \"Smallest constituency\\nNa h-Eileanan An Iar\"])\n",
    "    \n",
    "key_moments"
   ]
  },
  {
   "cell_type": "code",
   "execution_count": null,
   "metadata": {
    "run_control": {
     "read_only": false
    }
   },
   "outputs": [],
   "source": [
    "# Great monstrosity of a script to make the plot - The code for the annotations especially could certainly be optimised, but I haven't yet \n",
    "# come up with a way to automatically set where they should be\n",
    "\n",
    "fig = plt.figure(figsize=(24, 30))\n",
    "\n",
    "subp_axes = plt.subplot2grid((7, 1), (0, 0))\n",
    "for i in range (len(party_subjects)):\n",
    "    tweets_for_sub = pd.DataFrame(tweets_df[tweets_df['subject'] == party_subjects[i]]) \n",
    "    tweets_for_sub[['date_time', 'subject_count']].plot(ax=subp_axes, x='date_time', y='subject_count', \n",
    "                                                        linewidth=2, color=tweet_subj_col_dict[party_subjects[i]])\n",
    "\n",
    "legendpatch_list1 = ([mpatches.Patch(color='red', label='Labour Seats')]+\n",
    "                    [mpatches.Patch(color='blue', label='Conservative Seats')]+\n",
    "                    [mpatches.Patch(color='orange', label='Lib Dem Seats')]+\n",
    "                    [mpatches.Patch(color='yellow', label='SNP Seats')])   \n",
    "plt.legend(handles=legendpatch_list1, loc=(0.85, 0.4))\n",
    "\n",
    "plt.axvline('2017-06-09 04:52:00', color='red', linestyle='--')\n",
    "plt.annotate(\"04:52 - 90% of results declared\", xy=('2017-06-09 04:52:00', 1120), xytext=('2017-06-09 03:00:00', 1100), \n",
    "             arrowprops=dict(facecolor='red', shrink=0.05, width=2), size=15)\n",
    "\n",
    "plt.title(\"Party seat related tweets\\n\", size=30)\n",
    "plt.ylabel('Tweets per minute', fontsize=20)\n",
    "\n",
    "subn_axes = plt.subplot2grid((7, 1), (1, 0))\n",
    "for i in range (len(non_party_subjects)):\n",
    "    tweets_for_sub = pd.DataFrame(tweets_df[tweets_df['subject'] == non_party_subjects[i]])    \n",
    "    tweets_for_sub[['date_time', 'subject_count']].plot(ax=subn_axes, x='date_time', y='subject_count', \n",
    "                                                        linewidth=2, color=tweet_subj_col_dict[non_party_subjects[i]])\n",
    "    \n",
    "legendpatch_list2 = ([mpatches.Patch(color='magenta', label='\\\"exit poll\" or #exitpoll')]+\n",
    "                    [mpatches.Patch(color='cyan', label='\\\"hung parliament\" \\nor #hungparliament')])   \n",
    "plt.legend(handles=legendpatch_list2, loc=(0.85, 0.5))\n",
    "plt.axvline('2017-06-09 04:52:00', color='red', linestyle='--')\n",
    "plt.title(\"Non-party related election tweets\\n\", size=30)\n",
    "plt.ylabel('Tweets per minute', fontsize=20)\n",
    "\n",
    "party_axes = plt.subplot2grid((7, 1), (2, 0), rowspan=5)\n",
    "for i in range (len(parties)):\n",
    "    ge2017_sel_party = pd.DataFrame(ge2017_sel[ge2017_sel['first_party'] == parties[i]])\n",
    "    ge2017_sel_party[['declaration_time', 'share']].plot(ax=party_axes, x='declaration_time', y='share',\n",
    "                                                   style='o', markersize=9, markerfacecolor=party_col_dict[parties[i]])\n",
    "\n",
    "party_axes.set_xlim(['2017-06-08 22:00:00', '2017-06-09 08:00:00'])\n",
    "plt.xticks(rotation='vertical')\n",
    "\n",
    "# creating a custom legend using mpatches\n",
    "legendpatch_list3 = ([mpatches.Patch(color='blue', label='Conservatives')]+\n",
    "                    [mpatches.Patch(color='maroon', label='DUP')]+\n",
    "                    [mpatches.Patch(color='green', label='Green Party')]+\n",
    "                    [mpatches.Patch(color='purple', label='Independent')]+\n",
    "                    [mpatches.Patch(color='orange', label='Liberal Democrat')]+\n",
    "                    [mpatches.Patch(color='red', label='Labour')]+\n",
    "                    [mpatches.Patch(color='lime', label='Plaid Cymru')]+\n",
    "                    [mpatches.Patch(color='teal', label='Sinn Féin')]+\n",
    "                    [mpatches.Patch(color='yellow', label='SNP')]+\n",
    "                    [mpatches.Patch(color='magenta', label='Speaker')])   \n",
    "plt.legend(handles=legendpatch_list3, loc=(0.05, 0.05))\n",
    "plt.ylabel('Winning party % share of vote\\n', fontsize=20)\n",
    "plt.xlabel('\\nTime', fontsize=20)\n",
    "\n",
    "plt.annotate(key_moments['sheffield_hallam'][2], xy=(key_moments['sheffield_hallam'][0], key_moments['sheffield_hallam'][1]), \n",
    "             xytext=(key_moments['sheffield_hallam'][0], key_moments['sheffield_hallam'][1] - 0.15), \n",
    "             arrowprops=dict(facecolor='black', shrink=0.05, width=2), size=15)\n",
    "\n",
    "plt.annotate(key_moments['newcastle'][2], xy=(key_moments['newcastle'][0], key_moments['newcastle'][1]), \n",
    "             xytext=('2017-06-08 22:15:00', key_moments['newcastle'][1] + 0.20), \n",
    "             arrowprops=dict(facecolor='black', shrink=0.05, width=2), size=15)\n",
    "\n",
    "plt.annotate(key_moments['hackney'][2], xy=(key_moments['hackney'][0], key_moments['hackney'][1]), \n",
    "             xytext=('2017-06-09 04:00:00', key_moments['hackney'][1] + 0.11), \n",
    "             arrowprops=dict(facecolor='black', shrink=0.05, width=2), size=15)\n",
    "\n",
    "plt.annotate(key_moments['maidenhead'][2], xy=(key_moments['maidenhead'][0], key_moments['maidenhead'][1]), \n",
    "             xytext=(key_moments['maidenhead'][0], key_moments['maidenhead'][1] + 0.1), \n",
    "             arrowprops=dict(facecolor='black', shrink=0.05, width=2), size=15)\n",
    "\n",
    "plt.annotate(key_moments['islington'][2], xy=(key_moments['islington'][0], key_moments['islington'][1]), \n",
    "             xytext=('2017-06-09 01:00:00', key_moments['islington'][1] + 0.01), \n",
    "             arrowprops=dict(facecolor='black', shrink=0.05, width=2), size=15)\n",
    "\n",
    "plt.annotate(key_moments['bucks'][2], xy=(key_moments['bucks'][0], key_moments['bucks'][1]), \n",
    "             xytext=('2017-06-09 05:30:00', key_moments['bucks'][1] + 0.05), \n",
    "             arrowprops=dict(facecolor='black', shrink=0.05, width=2), size=15)\n",
    "\n",
    "plt.annotate(key_moments['ceredigion'][2], xy=(key_moments['ceredigion'][0], key_moments['ceredigion'][1]), \n",
    "             xytext=(key_moments['ceredigion'][0], key_moments['ceredigion'][1] - 0.05), \n",
    "             arrowprops=dict(facecolor='black', shrink=0.05, width=2), size=15)\n",
    "\n",
    "plt.annotate(key_moments['eileanan'][2], xy=(key_moments['eileanan'][0], key_moments['eileanan'][1]), \n",
    "             xytext=('2017-06-09 01:45:00', key_moments['eileanan'][1] - 0.11), \n",
    "             arrowprops=dict(facecolor='black', shrink=0.05, width=2), size=15)\n",
    "\n",
    "plt.annotate(key_moments['glasgow_ne'][2], xy=(key_moments['glasgow_ne'][0], key_moments['glasgow_ne'][1]), \n",
    "             xytext=(key_moments['glasgow_ne'][0], key_moments['glasgow_ne'][1] - 0.15), \n",
    "             arrowprops=dict(facecolor='black', shrink=0.05, width=2), size=15)\n",
    "\n",
    "plt.annotate(key_moments['gordon'][2], xy=(key_moments['gordon'][0], key_moments['gordon'][1]), \n",
    "             xytext=(key_moments['gordon'][0], key_moments['gordon'][1] - 0.10), \n",
    "             arrowprops=dict(facecolor='black', shrink=0.05, width=2), size=15)\n",
    "\n",
    "plt.annotate(key_moments['iow'][2], xy=(key_moments['iow'][0], key_moments['iow'][1]), \n",
    "             xytext=('2017-06-09 03:50:00', key_moments['iow'][1] - 0.1), \n",
    "             arrowprops=dict(facecolor='black', shrink=0.05, width=2), size=15)\n",
    "\n",
    "plt.annotate(key_moments['knowsley'][2], xy=(key_moments['knowsley'][0], key_moments['knowsley'][1]), \n",
    "             xytext=('2017-06-09 01:00:00', key_moments['knowsley'][1] - 0.05), \n",
    "             arrowprops=dict(facecolor='black', shrink=0.05, width=2), size=15)\n",
    "\n",
    "plt.annotate(key_moments['liv_walton'][2], xy=(key_moments['liv_walton'][0], key_moments['liv_walton'][1]), \n",
    "             xytext=('2017-06-09 01:20:00', key_moments['liv_walton'][1] + 0.02), \n",
    "             arrowprops=dict(facecolor='black', shrink=0.05, width=2), size=15)\n",
    "\n",
    "plt.annotate(key_moments['twickenham'][2], xy=(key_moments['twickenham'][0], key_moments['twickenham'][1]), \n",
    "             xytext=('2017-06-09 00:00:00', key_moments['twickenham'][1] - 0.08), \n",
    "             arrowprops=dict(facecolor='black', shrink=0.05, width=2), size=15)\n",
    "\n",
    "plt.annotate(key_moments['ne_fife'][2], xy=(key_moments['ne_fife'][0], key_moments['ne_fife'][1]), \n",
    "             xytext=(key_moments['ne_fife'][0], key_moments['ne_fife'][1] + 0.05), \n",
    "             arrowprops=dict(facecolor='black', shrink=0.05, width=2), size=15)\n",
    "\n",
    "plt.axvline('2017-06-09 04:52:00', color='red', linestyle='--')\n",
    "plt.title(\"Winning party percentage vote against time of declaration\\n\", size=30)\n",
    "plt.tight_layout(pad=0.4, w_pad=0.5, h_pad=1.0)\n",
    "\n",
    "\n",
    "label_string = '                      UK General Election Night, 8-9th June 2017\\n'\n",
    "plt.gcf().text(0.1, 1, label_string, fontsize=40)\n",
    "\n",
    "source_string = 'Note: Plot excludes Kensington (Lab - 21:03:00), St Austell and Newquay (Con - 08:52:00), Wells (Con - 10:44:00), North Cornwall (Con - 09:54:00), Southend West (Con - 08:31:00), and South East Cornwall (Con 09:21:00)'\n",
    "source_string = source_string + '\\nTwitter data collected using Twitter REST API Search endpoint. Constituency result data from the House of Commons Library research briefing \\'General Election 2017: full results and analysis (first edition)\\''\n",
    "source_string = source_string + '\\nAvailable at http://researchbriefings.parliament.uk/ResearchBriefing/Summary/CBP-7979\\n'\n",
    "plt.gcf().text(0.01, -0.04, source_string, fontsize=15)\n",
    "\n",
    "plt.show()\n",
    "\n",
    "# Finally, save this figure\n",
    "plt.savefig('vis_output/ElectionDeclarationTimeAndVoteShare.png')"
   ]
  }
 ],
 "metadata": {
  "kernelspec": {
   "display_name": "Python 3",
   "language": "python",
   "name": "python3"
  },
  "language_info": {
   "codemirror_mode": {
    "name": "ipython",
    "version": 3
   },
   "file_extension": ".py",
   "mimetype": "text/x-python",
   "name": "python",
   "nbconvert_exporter": "python",
   "pygments_lexer": "ipython3",
   "version": "3.6.4"
  }
 },
 "nbformat": 4,
 "nbformat_minor": 1
}
