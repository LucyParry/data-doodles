{
 "cells": [
  {
   "cell_type": "code",
   "execution_count": 16,
   "metadata": {
    "collapsed": false,
    "run_control": {
     "read_only": false
    }
   },
   "outputs": [],
   "source": [
    "# Install Tweepy if needed with\n",
    "# !sudo pip install tweepy==3.3.0"
   ]
  },
  {
   "cell_type": "code",
   "execution_count": 2,
   "metadata": {
    "collapsed": false,
    "run_control": {
     "read_only": false
    }
   },
   "outputs": [],
   "source": [
    "import tweepy\n",
    "from tweepy import OAuthHandler\n",
    "\n",
    "import pandas as pd\n",
    "import datetime\n",
    "from textwrap import wrap\n",
    "\n",
    "%matplotlib inline\n",
    "plt.style.use('ggplot')\n",
    "plt.rc('font', size=15) \n",
    "plt.rc('axes', titlesize=15)\n",
    "plt.rc('axes', labelsize=15)\n",
    "plt.rc('xtick', labelsize=15)\n",
    "plt.rc('ytick', labelsize=15)\n",
    "plt.rc('legend', fontsize=15)\n",
    "plt.rc('figure', titlesize=15)"
   ]
  },
  {
   "cell_type": "code",
   "execution_count": null,
   "metadata": {
    "collapsed": false,
    "run_control": {
     "read_only": false
    }
   },
   "outputs": [],
   "source": [
    "consumer_key = '** Your details here **'\n",
    "consumer_secret = '** Your details here **'\n",
    "access_token = '** Your details here **'\n",
    "access_secret = '** Your details here **'\n",
    " \n",
    "auth = OAuthHandler(consumer_key, consumer_secret)\n",
    "auth.set_access_token(access_token, access_secret)\n",
    "api = tweepy.API(auth)\n",
    "print(\"Successfully registered account:\" + api.me().screen_name)"
   ]
  },
  {
   "cell_type": "code",
   "execution_count": 6,
   "metadata": {
    "collapsed": true,
    "run_control": {
     "read_only": false
    }
   },
   "outputs": [],
   "source": [
    "# Tweepy library for the Twitter Streaming API\n",
    "\n",
    "#from tweepy import Stream\n",
    "#from tweepy.streaming import StreamListener"
   ]
  },
  {
   "cell_type": "code",
   "execution_count": 3,
   "metadata": {
    "collapsed": true,
    "run_control": {
     "read_only": false
    }
   },
   "outputs": [],
   "source": [
    "def process_or_store(tweet):\n",
    "    with open('daps.json', 'a') as f:\n",
    "        f.write(json.dumps(tweet))"
   ]
  },
  {
   "cell_type": "code",
   "execution_count": 46,
   "metadata": {
    "collapsed": true,
    "run_control": {
     "read_only": false
    }
   },
   "outputs": [],
   "source": [
    "# Get last 10 tweets on home account feed \n",
    "\n",
    "for status in tweepy.Cursor(api.home_timeline).items(5):\n",
    "    process_or_store(tweet._json)"
   ]
  },
  {
   "cell_type": "code",
   "execution_count": null,
   "metadata": {
    "collapsed": false,
    "run_control": {
     "read_only": false
    }
   },
   "outputs": [],
   "source": [
    "#https://www.karambelkar.info/2015/01/how-to-use-twitters-search-rest-api-most-effectively./\n",
    "\n",
    "import sys\n",
    "import os\n",
    "\n",
    "searchQuery = '#dogsatpollingstations'\n",
    "maxTweets = 1000000\n",
    "tweetsPerQry = 100\n",
    "fName = 'daps9th.txt' # We'll store the tweets in a text file.\n",
    "\n",
    "# If results from a specific ID onwards are reqd, set since_id to that ID.\n",
    "# else default to no lower limit, go as far back as API allows\n",
    "sinceId = 872966455666630660\n",
    "max_id = -1\n",
    "\n",
    "tweetCount = 0\n",
    "print(\"Downloading max {0} tweets\".format(maxTweets))\n",
    "with open(fName, 'w') as f:\n",
    "    while tweetCount < maxTweets:\n",
    "        try:\n",
    "            if (max_id <= 0):\n",
    "                if (not sinceId):\n",
    "                    new_tweets = api.search(q=searchQuery, count=tweetsPerQry, since='2017-06-08', until='2017-06-10')\n",
    "                else:\n",
    "                    new_tweets = api.search(q=searchQuery, count=tweetsPerQry, since='2017-06-08', until='2017-06-10',\n",
    "                                            since_id=sinceId)\n",
    "            else:\n",
    "                if (not sinceId):\n",
    "                    new_tweets = api.search(q=searchQuery, count=tweetsPerQry, since='2017-06-08', until='2017-06-10',\n",
    "                                            max_id=str(max_id - 1))\n",
    "                else:\n",
    "                    new_tweets = api.search(q=searchQuery, count=tweetsPerQry, since='2017-06-08', until='2017-06-10',\n",
    "                                            max_id=str(max_id - 1),\n",
    "                                            since_id=sinceId)\n",
    "            if not new_tweets:\n",
    "                print(\"No more tweets found\")\n",
    "                break\n",
    "                \n",
    "            for tweet in new_tweets:\n",
    "                f.write(str(tweet.id) + ', ' + str(tweet.created_at) + '\\n')\n",
    "            tweetCount += len(new_tweets)\n",
    "            print(\"Downloaded {0} tweets\".format(tweetCount))\n",
    "            max_id = new_tweets[-1].id\n",
    "        except tweepy.TweepError as e:\n",
    "            print(\"error : \" + str(e))\n",
    "            break\n",
    "\n",
    "print (\"Downloaded {0} tweets, Saved to {1}\".format(tweetCount, fName))"
   ]
  },
  {
   "cell_type": "code",
   "execution_count": 5,
   "metadata": {
    "collapsed": false,
    "run_control": {
     "read_only": false
    }
   },
   "outputs": [
    {
     "data": {
      "text/html": [
       "<div>\n",
       "<table border=\"1\" class=\"dataframe\">\n",
       "  <thead>\n",
       "    <tr style=\"text-align: right;\">\n",
       "      <th></th>\n",
       "      <th>Column 1</th>\n",
       "      <th>Column 2</th>\n",
       "    </tr>\n",
       "  </thead>\n",
       "  <tbody>\n",
       "    <tr>\n",
       "      <th>0</th>\n",
       "      <td>873328794043506688</td>\n",
       "      <td>2017-06-09 23:59:44</td>\n",
       "    </tr>\n",
       "    <tr>\n",
       "      <th>1</th>\n",
       "      <td>873328533329907712</td>\n",
       "      <td>2017-06-09 23:58:42</td>\n",
       "    </tr>\n",
       "    <tr>\n",
       "      <th>2</th>\n",
       "      <td>873327333800681472</td>\n",
       "      <td>2017-06-09 23:53:56</td>\n",
       "    </tr>\n",
       "  </tbody>\n",
       "</table>\n",
       "</div>"
      ],
      "text/plain": [
       "             Column 1              Column 2\n",
       "0  873328794043506688   2017-06-09 23:59:44\n",
       "1  873328533329907712   2017-06-09 23:58:42\n",
       "2  873327333800681472   2017-06-09 23:53:56"
      ]
     },
     "execution_count": 5,
     "metadata": {},
     "output_type": "execute_result"
    }
   ],
   "source": [
    "daps_df = pd.read_csv('HashtagDogsAtPollingStations.csv')\n",
    "daps_df.head(3)"
   ]
  },
  {
   "cell_type": "code",
   "execution_count": 6,
   "metadata": {
    "collapsed": false,
    "run_control": {
     "read_only": false
    }
   },
   "outputs": [
    {
     "data": {
      "text/html": [
       "<div>\n",
       "<table border=\"1\" class=\"dataframe\">\n",
       "  <thead>\n",
       "    <tr style=\"text-align: right;\">\n",
       "      <th></th>\n",
       "      <th>ID</th>\n",
       "      <th>Timestamp</th>\n",
       "    </tr>\n",
       "  </thead>\n",
       "  <tbody>\n",
       "    <tr>\n",
       "      <th>0</th>\n",
       "      <td>873328794043506688</td>\n",
       "      <td>2017-06-09 23:59:44</td>\n",
       "    </tr>\n",
       "    <tr>\n",
       "      <th>1</th>\n",
       "      <td>873328533329907712</td>\n",
       "      <td>2017-06-09 23:58:42</td>\n",
       "    </tr>\n",
       "    <tr>\n",
       "      <th>2</th>\n",
       "      <td>873327333800681472</td>\n",
       "      <td>2017-06-09 23:53:56</td>\n",
       "    </tr>\n",
       "    <tr>\n",
       "      <th>3</th>\n",
       "      <td>873327303618478080</td>\n",
       "      <td>2017-06-09 23:53:49</td>\n",
       "    </tr>\n",
       "    <tr>\n",
       "      <th>4</th>\n",
       "      <td>873327240892821504</td>\n",
       "      <td>2017-06-09 23:53:34</td>\n",
       "    </tr>\n",
       "    <tr>\n",
       "      <th>5</th>\n",
       "      <td>873327140120535043</td>\n",
       "      <td>2017-06-09 23:53:10</td>\n",
       "    </tr>\n",
       "    <tr>\n",
       "      <th>6</th>\n",
       "      <td>873326449431916548</td>\n",
       "      <td>2017-06-09 23:50:25</td>\n",
       "    </tr>\n",
       "    <tr>\n",
       "      <th>7</th>\n",
       "      <td>873326443186487297</td>\n",
       "      <td>2017-06-09 23:50:24</td>\n",
       "    </tr>\n",
       "    <tr>\n",
       "      <th>8</th>\n",
       "      <td>873326427751534592</td>\n",
       "      <td>2017-06-09 23:50:20</td>\n",
       "    </tr>\n",
       "    <tr>\n",
       "      <th>9</th>\n",
       "      <td>873326236558172160</td>\n",
       "      <td>2017-06-09 23:49:35</td>\n",
       "    </tr>\n",
       "  </tbody>\n",
       "</table>\n",
       "</div>"
      ],
      "text/plain": [
       "                   ID             Timestamp\n",
       "0  873328794043506688   2017-06-09 23:59:44\n",
       "1  873328533329907712   2017-06-09 23:58:42\n",
       "2  873327333800681472   2017-06-09 23:53:56\n",
       "3  873327303618478080   2017-06-09 23:53:49\n",
       "4  873327240892821504   2017-06-09 23:53:34\n",
       "5  873327140120535043   2017-06-09 23:53:10\n",
       "6  873326449431916548   2017-06-09 23:50:25\n",
       "7  873326443186487297   2017-06-09 23:50:24\n",
       "8  873326427751534592   2017-06-09 23:50:20\n",
       "9  873326236558172160   2017-06-09 23:49:35"
      ]
     },
     "execution_count": 6,
     "metadata": {},
     "output_type": "execute_result"
    }
   ],
   "source": [
    "daps_df.rename(columns={'Column 1': 'ID', 'Column 2': 'Timestamp'}, inplace=True)\n",
    "daps_df.head(10)"
   ]
  },
  {
   "cell_type": "code",
   "execution_count": 9,
   "metadata": {
    "collapsed": false,
    "run_control": {
     "read_only": false
    }
   },
   "outputs": [],
   "source": [
    "daps_df['Timestamp'] = pd.to_datetime(daps_df['Timestamp'])"
   ]
  },
  {
   "cell_type": "code",
   "execution_count": 10,
   "metadata": {
    "collapsed": false,
    "run_control": {
     "read_only": false
    }
   },
   "outputs": [
    {
     "data": {
      "text/html": [
       "<div>\n",
       "<table border=\"1\" class=\"dataframe\">\n",
       "  <thead>\n",
       "    <tr style=\"text-align: right;\">\n",
       "      <th></th>\n",
       "      <th>ID</th>\n",
       "      <th>Timestamp</th>\n",
       "    </tr>\n",
       "  </thead>\n",
       "  <tbody>\n",
       "    <tr>\n",
       "      <th>0</th>\n",
       "      <td>873328794043506688</td>\n",
       "      <td>2017-06-09 23:59:44</td>\n",
       "    </tr>\n",
       "    <tr>\n",
       "      <th>1</th>\n",
       "      <td>873328533329907712</td>\n",
       "      <td>2017-06-09 23:58:42</td>\n",
       "    </tr>\n",
       "    <tr>\n",
       "      <th>2</th>\n",
       "      <td>873327333800681472</td>\n",
       "      <td>2017-06-09 23:53:56</td>\n",
       "    </tr>\n",
       "    <tr>\n",
       "      <th>3</th>\n",
       "      <td>873327303618478080</td>\n",
       "      <td>2017-06-09 23:53:49</td>\n",
       "    </tr>\n",
       "    <tr>\n",
       "      <th>4</th>\n",
       "      <td>873327240892821504</td>\n",
       "      <td>2017-06-09 23:53:34</td>\n",
       "    </tr>\n",
       "    <tr>\n",
       "      <th>5</th>\n",
       "      <td>873327140120535043</td>\n",
       "      <td>2017-06-09 23:53:10</td>\n",
       "    </tr>\n",
       "    <tr>\n",
       "      <th>6</th>\n",
       "      <td>873326449431916548</td>\n",
       "      <td>2017-06-09 23:50:25</td>\n",
       "    </tr>\n",
       "    <tr>\n",
       "      <th>7</th>\n",
       "      <td>873326443186487297</td>\n",
       "      <td>2017-06-09 23:50:24</td>\n",
       "    </tr>\n",
       "    <tr>\n",
       "      <th>8</th>\n",
       "      <td>873326427751534592</td>\n",
       "      <td>2017-06-09 23:50:20</td>\n",
       "    </tr>\n",
       "    <tr>\n",
       "      <th>9</th>\n",
       "      <td>873326236558172160</td>\n",
       "      <td>2017-06-09 23:49:35</td>\n",
       "    </tr>\n",
       "  </tbody>\n",
       "</table>\n",
       "</div>"
      ],
      "text/plain": [
       "                   ID           Timestamp\n",
       "0  873328794043506688 2017-06-09 23:59:44\n",
       "1  873328533329907712 2017-06-09 23:58:42\n",
       "2  873327333800681472 2017-06-09 23:53:56\n",
       "3  873327303618478080 2017-06-09 23:53:49\n",
       "4  873327240892821504 2017-06-09 23:53:34\n",
       "5  873327140120535043 2017-06-09 23:53:10\n",
       "6  873326449431916548 2017-06-09 23:50:25\n",
       "7  873326443186487297 2017-06-09 23:50:24\n",
       "8  873326427751534592 2017-06-09 23:50:20\n",
       "9  873326236558172160 2017-06-09 23:49:35"
      ]
     },
     "execution_count": 10,
     "metadata": {},
     "output_type": "execute_result"
    }
   ],
   "source": [
    "daps_df.head(10)"
   ]
  },
  {
   "cell_type": "code",
   "execution_count": 11,
   "metadata": {
    "collapsed": false,
    "run_control": {
     "read_only": false
    }
   },
   "outputs": [
    {
     "data": {
      "text/plain": [
       "ID                    int64\n",
       "Timestamp    datetime64[ns]\n",
       "dtype: object"
      ]
     },
     "execution_count": 11,
     "metadata": {},
     "output_type": "execute_result"
    }
   ],
   "source": [
    "daps_df.dtypes"
   ]
  },
  {
   "cell_type": "code",
   "execution_count": 12,
   "metadata": {
    "collapsed": false,
    "run_control": {
     "read_only": false
    }
   },
   "outputs": [
    {
     "data": {
      "text/html": [
       "<div>\n",
       "<table border=\"1\" class=\"dataframe\">\n",
       "  <thead>\n",
       "    <tr style=\"text-align: right;\">\n",
       "      <th></th>\n",
       "      <th>Timestamp</th>\n",
       "    </tr>\n",
       "  </thead>\n",
       "  <tbody>\n",
       "    <tr>\n",
       "      <th>count</th>\n",
       "      <td>96519</td>\n",
       "    </tr>\n",
       "    <tr>\n",
       "      <th>unique</th>\n",
       "      <td>47508</td>\n",
       "    </tr>\n",
       "    <tr>\n",
       "      <th>top</th>\n",
       "      <td>2017-06-08 20:15:08</td>\n",
       "    </tr>\n",
       "    <tr>\n",
       "      <th>freq</th>\n",
       "      <td>34</td>\n",
       "    </tr>\n",
       "    <tr>\n",
       "      <th>first</th>\n",
       "      <td>2017-06-08 00:01:01</td>\n",
       "    </tr>\n",
       "    <tr>\n",
       "      <th>last</th>\n",
       "      <td>2017-06-08 23:59:56</td>\n",
       "    </tr>\n",
       "  </tbody>\n",
       "</table>\n",
       "</div>"
      ],
      "text/plain": [
       "                  Timestamp\n",
       "count                 96519\n",
       "unique                47508\n",
       "top     2017-06-08 20:15:08\n",
       "freq                     34\n",
       "first   2017-06-08 00:01:01\n",
       "last    2017-06-08 23:59:56"
      ]
     },
     "execution_count": 12,
     "metadata": {},
     "output_type": "execute_result"
    }
   ],
   "source": [
    "daps_pd = daps_df['Timestamp'].groupby([daps_df[\"Timestamp\"].dt.year, daps_df[\"Timestamp\"].dt.month, daps_df[\"Timestamp\"].dt.day])\n",
    "tuple = (2017,6,8)\n",
    "daps_pd = pd.DataFrame(daps_pd.get_group(tuple))\n",
    "daps_pd.describe()"
   ]
  },
  {
   "cell_type": "code",
   "execution_count": 13,
   "metadata": {
    "collapsed": false,
    "run_control": {
     "read_only": false
    }
   },
   "outputs": [
    {
     "data": {
      "text/html": [
       "<div>\n",
       "<table border=\"1\" class=\"dataframe\">\n",
       "  <thead>\n",
       "    <tr style=\"text-align: right;\">\n",
       "      <th></th>\n",
       "      <th>Timestamp</th>\n",
       "    </tr>\n",
       "    <tr>\n",
       "      <th>Timestamp</th>\n",
       "      <th></th>\n",
       "    </tr>\n",
       "  </thead>\n",
       "  <tbody>\n",
       "    <tr>\n",
       "      <th>2017-06-08 00:00:00</th>\n",
       "      <td>21</td>\n",
       "    </tr>\n",
       "    <tr>\n",
       "      <th>2017-06-08 00:15:00</th>\n",
       "      <td>15</td>\n",
       "    </tr>\n",
       "    <tr>\n",
       "      <th>2017-06-08 00:30:00</th>\n",
       "      <td>21</td>\n",
       "    </tr>\n",
       "    <tr>\n",
       "      <th>2017-06-08 00:45:00</th>\n",
       "      <td>12</td>\n",
       "    </tr>\n",
       "    <tr>\n",
       "      <th>2017-06-08 01:00:00</th>\n",
       "      <td>13</td>\n",
       "    </tr>\n",
       "    <tr>\n",
       "      <th>2017-06-08 01:15:00</th>\n",
       "      <td>14</td>\n",
       "    </tr>\n",
       "    <tr>\n",
       "      <th>2017-06-08 01:30:00</th>\n",
       "      <td>11</td>\n",
       "    </tr>\n",
       "    <tr>\n",
       "      <th>2017-06-08 01:45:00</th>\n",
       "      <td>17</td>\n",
       "    </tr>\n",
       "    <tr>\n",
       "      <th>2017-06-08 02:00:00</th>\n",
       "      <td>14</td>\n",
       "    </tr>\n",
       "    <tr>\n",
       "      <th>2017-06-08 02:15:00</th>\n",
       "      <td>6</td>\n",
       "    </tr>\n",
       "    <tr>\n",
       "      <th>2017-06-08 02:30:00</th>\n",
       "      <td>10</td>\n",
       "    </tr>\n",
       "    <tr>\n",
       "      <th>2017-06-08 02:45:00</th>\n",
       "      <td>10</td>\n",
       "    </tr>\n",
       "    <tr>\n",
       "      <th>2017-06-08 03:00:00</th>\n",
       "      <td>3</td>\n",
       "    </tr>\n",
       "    <tr>\n",
       "      <th>2017-06-08 03:15:00</th>\n",
       "      <td>14</td>\n",
       "    </tr>\n",
       "    <tr>\n",
       "      <th>2017-06-08 03:30:00</th>\n",
       "      <td>30</td>\n",
       "    </tr>\n",
       "    <tr>\n",
       "      <th>2017-06-08 03:45:00</th>\n",
       "      <td>29</td>\n",
       "    </tr>\n",
       "    <tr>\n",
       "      <th>2017-06-08 04:00:00</th>\n",
       "      <td>15</td>\n",
       "    </tr>\n",
       "    <tr>\n",
       "      <th>2017-06-08 04:15:00</th>\n",
       "      <td>9</td>\n",
       "    </tr>\n",
       "    <tr>\n",
       "      <th>2017-06-08 04:30:00</th>\n",
       "      <td>23</td>\n",
       "    </tr>\n",
       "    <tr>\n",
       "      <th>2017-06-08 04:45:00</th>\n",
       "      <td>13</td>\n",
       "    </tr>\n",
       "    <tr>\n",
       "      <th>2017-06-08 05:00:00</th>\n",
       "      <td>34</td>\n",
       "    </tr>\n",
       "    <tr>\n",
       "      <th>2017-06-08 05:15:00</th>\n",
       "      <td>46</td>\n",
       "    </tr>\n",
       "    <tr>\n",
       "      <th>2017-06-08 05:30:00</th>\n",
       "      <td>61</td>\n",
       "    </tr>\n",
       "    <tr>\n",
       "      <th>2017-06-08 05:45:00</th>\n",
       "      <td>133</td>\n",
       "    </tr>\n",
       "    <tr>\n",
       "      <th>2017-06-08 06:00:00</th>\n",
       "      <td>255</td>\n",
       "    </tr>\n",
       "    <tr>\n",
       "      <th>2017-06-08 06:15:00</th>\n",
       "      <td>461</td>\n",
       "    </tr>\n",
       "    <tr>\n",
       "      <th>2017-06-08 06:30:00</th>\n",
       "      <td>720</td>\n",
       "    </tr>\n",
       "    <tr>\n",
       "      <th>2017-06-08 06:45:00</th>\n",
       "      <td>833</td>\n",
       "    </tr>\n",
       "    <tr>\n",
       "      <th>2017-06-08 07:00:00</th>\n",
       "      <td>1099</td>\n",
       "    </tr>\n",
       "    <tr>\n",
       "      <th>2017-06-08 07:15:00</th>\n",
       "      <td>1206</td>\n",
       "    </tr>\n",
       "    <tr>\n",
       "      <th>...</th>\n",
       "      <td>...</td>\n",
       "    </tr>\n",
       "    <tr>\n",
       "      <th>2017-06-08 16:30:00</th>\n",
       "      <td>1303</td>\n",
       "    </tr>\n",
       "    <tr>\n",
       "      <th>2017-06-08 16:45:00</th>\n",
       "      <td>1339</td>\n",
       "    </tr>\n",
       "    <tr>\n",
       "      <th>2017-06-08 17:00:00</th>\n",
       "      <td>1359</td>\n",
       "    </tr>\n",
       "    <tr>\n",
       "      <th>2017-06-08 17:15:00</th>\n",
       "      <td>1412</td>\n",
       "    </tr>\n",
       "    <tr>\n",
       "      <th>2017-06-08 17:30:00</th>\n",
       "      <td>1458</td>\n",
       "    </tr>\n",
       "    <tr>\n",
       "      <th>2017-06-08 17:45:00</th>\n",
       "      <td>1496</td>\n",
       "    </tr>\n",
       "    <tr>\n",
       "      <th>2017-06-08 18:00:00</th>\n",
       "      <td>1507</td>\n",
       "    </tr>\n",
       "    <tr>\n",
       "      <th>2017-06-08 18:15:00</th>\n",
       "      <td>1573</td>\n",
       "    </tr>\n",
       "    <tr>\n",
       "      <th>2017-06-08 18:30:00</th>\n",
       "      <td>1442</td>\n",
       "    </tr>\n",
       "    <tr>\n",
       "      <th>2017-06-08 18:45:00</th>\n",
       "      <td>1467</td>\n",
       "    </tr>\n",
       "    <tr>\n",
       "      <th>2017-06-08 19:00:00</th>\n",
       "      <td>1335</td>\n",
       "    </tr>\n",
       "    <tr>\n",
       "      <th>2017-06-08 19:15:00</th>\n",
       "      <td>1363</td>\n",
       "    </tr>\n",
       "    <tr>\n",
       "      <th>2017-06-08 19:30:00</th>\n",
       "      <td>1169</td>\n",
       "    </tr>\n",
       "    <tr>\n",
       "      <th>2017-06-08 19:45:00</th>\n",
       "      <td>1327</td>\n",
       "    </tr>\n",
       "    <tr>\n",
       "      <th>2017-06-08 20:00:00</th>\n",
       "      <td>1632</td>\n",
       "    </tr>\n",
       "    <tr>\n",
       "      <th>2017-06-08 20:15:00</th>\n",
       "      <td>1532</td>\n",
       "    </tr>\n",
       "    <tr>\n",
       "      <th>2017-06-08 20:30:00</th>\n",
       "      <td>1389</td>\n",
       "    </tr>\n",
       "    <tr>\n",
       "      <th>2017-06-08 20:45:00</th>\n",
       "      <td>1104</td>\n",
       "    </tr>\n",
       "    <tr>\n",
       "      <th>2017-06-08 21:00:00</th>\n",
       "      <td>805</td>\n",
       "    </tr>\n",
       "    <tr>\n",
       "      <th>2017-06-08 21:15:00</th>\n",
       "      <td>724</td>\n",
       "    </tr>\n",
       "    <tr>\n",
       "      <th>2017-06-08 21:30:00</th>\n",
       "      <td>615</td>\n",
       "    </tr>\n",
       "    <tr>\n",
       "      <th>2017-06-08 21:45:00</th>\n",
       "      <td>614</td>\n",
       "    </tr>\n",
       "    <tr>\n",
       "      <th>2017-06-08 22:00:00</th>\n",
       "      <td>489</td>\n",
       "    </tr>\n",
       "    <tr>\n",
       "      <th>2017-06-08 22:15:00</th>\n",
       "      <td>552</td>\n",
       "    </tr>\n",
       "    <tr>\n",
       "      <th>2017-06-08 22:30:00</th>\n",
       "      <td>500</td>\n",
       "    </tr>\n",
       "    <tr>\n",
       "      <th>2017-06-08 22:45:00</th>\n",
       "      <td>423</td>\n",
       "    </tr>\n",
       "    <tr>\n",
       "      <th>2017-06-08 23:00:00</th>\n",
       "      <td>340</td>\n",
       "    </tr>\n",
       "    <tr>\n",
       "      <th>2017-06-08 23:15:00</th>\n",
       "      <td>300</td>\n",
       "    </tr>\n",
       "    <tr>\n",
       "      <th>2017-06-08 23:30:00</th>\n",
       "      <td>185</td>\n",
       "    </tr>\n",
       "    <tr>\n",
       "      <th>2017-06-08 23:45:00</th>\n",
       "      <td>221</td>\n",
       "    </tr>\n",
       "  </tbody>\n",
       "</table>\n",
       "<p>96 rows × 1 columns</p>\n",
       "</div>"
      ],
      "text/plain": [
       "                     Timestamp\n",
       "Timestamp                     \n",
       "2017-06-08 00:00:00         21\n",
       "2017-06-08 00:15:00         15\n",
       "2017-06-08 00:30:00         21\n",
       "2017-06-08 00:45:00         12\n",
       "2017-06-08 01:00:00         13\n",
       "2017-06-08 01:15:00         14\n",
       "2017-06-08 01:30:00         11\n",
       "2017-06-08 01:45:00         17\n",
       "2017-06-08 02:00:00         14\n",
       "2017-06-08 02:15:00          6\n",
       "2017-06-08 02:30:00         10\n",
       "2017-06-08 02:45:00         10\n",
       "2017-06-08 03:00:00          3\n",
       "2017-06-08 03:15:00         14\n",
       "2017-06-08 03:30:00         30\n",
       "2017-06-08 03:45:00         29\n",
       "2017-06-08 04:00:00         15\n",
       "2017-06-08 04:15:00          9\n",
       "2017-06-08 04:30:00         23\n",
       "2017-06-08 04:45:00         13\n",
       "2017-06-08 05:00:00         34\n",
       "2017-06-08 05:15:00         46\n",
       "2017-06-08 05:30:00         61\n",
       "2017-06-08 05:45:00        133\n",
       "2017-06-08 06:00:00        255\n",
       "2017-06-08 06:15:00        461\n",
       "2017-06-08 06:30:00        720\n",
       "2017-06-08 06:45:00        833\n",
       "2017-06-08 07:00:00       1099\n",
       "2017-06-08 07:15:00       1206\n",
       "...                        ...\n",
       "2017-06-08 16:30:00       1303\n",
       "2017-06-08 16:45:00       1339\n",
       "2017-06-08 17:00:00       1359\n",
       "2017-06-08 17:15:00       1412\n",
       "2017-06-08 17:30:00       1458\n",
       "2017-06-08 17:45:00       1496\n",
       "2017-06-08 18:00:00       1507\n",
       "2017-06-08 18:15:00       1573\n",
       "2017-06-08 18:30:00       1442\n",
       "2017-06-08 18:45:00       1467\n",
       "2017-06-08 19:00:00       1335\n",
       "2017-06-08 19:15:00       1363\n",
       "2017-06-08 19:30:00       1169\n",
       "2017-06-08 19:45:00       1327\n",
       "2017-06-08 20:00:00       1632\n",
       "2017-06-08 20:15:00       1532\n",
       "2017-06-08 20:30:00       1389\n",
       "2017-06-08 20:45:00       1104\n",
       "2017-06-08 21:00:00        805\n",
       "2017-06-08 21:15:00        724\n",
       "2017-06-08 21:30:00        615\n",
       "2017-06-08 21:45:00        614\n",
       "2017-06-08 22:00:00        489\n",
       "2017-06-08 22:15:00        552\n",
       "2017-06-08 22:30:00        500\n",
       "2017-06-08 22:45:00        423\n",
       "2017-06-08 23:00:00        340\n",
       "2017-06-08 23:15:00        300\n",
       "2017-06-08 23:30:00        185\n",
       "2017-06-08 23:45:00        221\n",
       "\n",
       "[96 rows x 1 columns]"
      ]
     },
     "execution_count": 13,
     "metadata": {},
     "output_type": "execute_result"
    }
   ],
   "source": [
    "# The TimeGrouper will need the timestamp as the index, so set this first\n",
    "daps_pd.set_index('Timestamp', drop=False, inplace=True)\n",
    "\n",
    "# Then use a groupby and pass in a TimeGrouper with the frequency you want -\n",
    "daps_pd_plot = daps_pd.groupby(pd.TimeGrouper(freq='15Min')).count()\n",
    "daps_pd_plot"
   ]
  },
  {
   "cell_type": "code",
   "execution_count": 35,
   "metadata": {
    "collapsed": false,
    "run_control": {
     "read_only": false
    }
   },
   "outputs": [
    {
     "data": {
      "image/png": "[encoded data removed]",
      "text/plain": [
       "<matplotlib.figure.Figure at 0xaef46b4c>"
      ]
     },
     "metadata": {},
     "output_type": "display_data"
    }
   ],
   "source": [
    "xtick_array = ['2017-06-08 00:00:00', '2017-06-08 01:00:00', '2017-06-08 02:00:00', '2017-06-08 03:00:00', '2017-06-08 04:00:00', '2017-06-08 05:00:00', '2017-06-08 06:00:00', \n",
    "'2017-06-08 07:00:00', '2017-06-08 08:00:00', '2017-06-08 09:00:00', '2017-06-08 10:00:00', '2017-06-08 11:00:00', '2017-06-08 12:00:00', '2017-06-08 13:00:00', \n",
    "'2017-06-08 14:00:00', '2017-06-08 15:00:00', '2017-06-08 16:00:00', '2017-06-08 17:00:00', '2017-06-08 18:00:00', '2017-06-08 19:00:00', '2017-06-08 20:00:00', \n",
    "'2017-06-08 21:00:00', '2017-06-08 22:00:00', '2017-06-08 23:00:00']\n",
    "\n",
    "daps_pd_plot.plot(kind='area', alpha=0.5, figsize=(12,6), legend=False, xticks=xtick_array)\n",
    "\n",
    "plt.title(\"Number of tweets containing #dogsatpollingstations per 15-minute period, 8th June 2017\\n\")\n",
    "plt.xlabel(\"Time\")\n",
    "plt.ylabel(\"Tweets per 15 minute period\")\n",
    "\n",
    "plt.axvline('2017-06-08 07:00:00', color='black')\n",
    "plt.axvline('2017-06-08 22:00:00', color='black')\n",
    "plt.text('2017-06-08 07:15:00', 2000,'Polls open', rotation=90)\n",
    "plt.text('2017-06-08 22:15:00', 2000,'Polls close', rotation=90)\n",
    "\n",
    "plt.figimage(plt.imread('woof.png'), 100, 70, alpha=.07, zorder=5)\n",
    "plt.savefig('vis_output/DogsAtPollingStations.png')"
   ]
  }
 ],
 "metadata": {
  "kernelspec": {
   "display_name": "Python 3",
   "language": "python",
   "name": "python3"
  },
  "language_info": {
   "codemirror_mode": {
    "name": "ipython",
    "version": 3
   },
   "file_extension": ".py",
   "mimetype": "text/x-python",
   "name": "python",
   "nbconvert_exporter": "python",
   "pygments_lexer": "ipython3",
   "version": "3.4.3"
  }
 },
 "nbformat": 4,
 "nbformat_minor": 0
}
