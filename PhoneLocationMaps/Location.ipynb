{
 "cells": [
  {
   "cell_type": "code",
   "execution_count": null,
   "metadata": {},
   "outputs": [],
   "source": [
    "# Imports\n",
    "\n",
    "import csv\n",
    "import json\n",
    "import folium\n",
    "import pandas as pd\n",
    "from datetime import datetime, timezone\n",
    "from pandas.io.json import json_normalize"
   ]
  },
  {
   "cell_type": "code",
   "execution_count": null,
   "metadata": {},
   "outputs": [],
   "source": [
    "# Google's 'Takeout' service offers download of location history as a JSON file, 'Location History'\n",
    "\n",
    "file_path = 'data/Location_History.json'\n",
    "location_json = pd.io.json.read_json(file_path)\n",
    "locations = location_json['locations']\n",
    "locations.head()"
   ]
  },
  {
   "cell_type": "code",
   "execution_count": null,
   "metadata": {},
   "outputs": [],
   "source": [
    "# For each 'row' in the object above, get the timestamp, longitude and latitude and write them out to CSV\n",
    "\n",
    "with open('data/time_long_lat.csv', \"w\") as csv_file:\n",
    "        csv_file.write('timestamp,longitude,latitude\\n')\n",
    "        for i in range(len(locations)):\n",
    "            ts_int = int(locations[i]['timestampMs'])\n",
    "            longitude = ((locations[i]['longitudeE7']) / 10000000)\n",
    "            latitude = ((locations[i]['latitudeE7']) / 10000000)\n",
    "            csv_file.write(str(ts_int) + ',' + str(longitude) + ',' + str(latitude) + '\\n')"
   ]
  },
  {
   "cell_type": "code",
   "execution_count": null,
   "metadata": {},
   "outputs": [],
   "source": [
    "# Read the CSV back in\n",
    "\n",
    "location_df = pd.read_csv('data/time_long_lat.csv')\n",
    "location_df.head(5)"
   ]
  },
  {
   "cell_type": "code",
   "execution_count": null,
   "metadata": {},
   "outputs": [],
   "source": [
    "location_df['datetime'] = pd.to_datetime(location_df['timestamp'], unit='ms')\n",
    "location_df['month'] = pd.DatetimeIndex(location_df['datetime']).month\n",
    "location_df.head(5)"
   ]
  },
  {
   "cell_type": "code",
   "execution_count": null,
   "metadata": {},
   "outputs": [],
   "source": [
    "location_df.sort_values(['datetime'], ascending=True, inplace=True)\n",
    "location_df.tail(5)"
   ]
  },
  {
   "cell_type": "code",
   "execution_count": null,
   "metadata": {},
   "outputs": [],
   "source": [
    "location_df = pd.DataFrame(location_df[location_df['datetime'] > '2017-01-01'])\n",
    "location_df.head()"
   ]
  },
  {
   "cell_type": "code",
   "execution_count": null,
   "metadata": {},
   "outputs": [],
   "source": [
    "location_months_df = location_df[['longitude', 'latitude', 'month']]\n",
    "location_months_df = location_months_df.drop_duplicates()\n",
    "location_months_df.head()"
   ]
  },
  {
   "cell_type": "code",
   "execution_count": null,
   "metadata": {},
   "outputs": [],
   "source": [
    "# Array of hex codes so we can colour code each month\n",
    "col_array = ['#00e6e6','#2ecc71','#3498db','#9b59b6','#34495e','#f1c40f','#e67e22','#c0392b','#bdc3c7','#7f8c8d','#ff66cc','#800055']\n",
    "months_array = ['January','February','March','April','May','June','July','August','September','October','November','December']\n",
    "months_array"
   ]
  },
  {
   "cell_type": "code",
   "execution_count": null,
   "metadata": {},
   "outputs": [],
   "source": [
    "# This is a nifty way to draw the legend on a folium map (which is actually for choropleths but it will do here) - I did choropleths \n",
    "# in my TM351 EMA and wish I'd known about it then! More info here - http://nbviewer.jupyter.org/github/python-visualization/folium/blob/master/examples/Colormaps.ipynb\n",
    "\n",
    "import branca.colormap as cm\n",
    "\n",
    "legend = cm.StepColormap(\n",
    "    col_array,\n",
    "    vmin=0, vmax=12,\n",
    "    index=[0, 1, 2, 3, 4, 5, 6, 7, 8, 9, 10, 11, 12],\n",
    "    caption='Month - 1 (Jan) to 12 (Dec)'\n",
    ")\n",
    "\n",
    "legend"
   ]
  },
  {
   "cell_type": "code",
   "execution_count": null,
   "metadata": {},
   "outputs": [],
   "source": [
    "# Debug line!\n",
    "# location_months_df = location_months_df.head()\n",
    "\n",
    "# The 'Stamen Toner' tiles look lovely and dramatic but the sea is black so I can't see my legend caption\n",
    "# The 'map' formed by the visualisation with no tiles at all is pretty interesting anyway, and I don't want my home town labelled too well!\n",
    "# This is a good guide to the different tiles - https://deparkes.co.uk/2016/06/10/folium-map-tiles/\n",
    "\n",
    "# Combined map of the whole year\n",
    "map = folium.Map(location=[52.752866,-0.9033606], zoom_start=10, tiles='Mapbox Bright')\n",
    "\n",
    "for index, row in location_months_df.iterrows():\n",
    "    colour = col_array[int(row['month'] - 1)]\n",
    "    folium.CircleMarker([row['latitude'], row['longitude']], radius=3, color=colour, fill_color=colour, ).add_to(map)\n",
    "\n",
    "map.add_child(legend)\n",
    "map.save('locations_2017.html')"
   ]
  },
  {
   "cell_type": "code",
   "execution_count": null,
   "metadata": {},
   "outputs": [],
   "source": [
    "# Individual maps for each month\n",
    "\n",
    "for i in range (len(months_array)):\n",
    "    map = folium.Map(location=[52.752866,-0.9033606], zoom_start=12, tiles='Mapbox Bright')\n",
    "    location_sel = pd.DataFrame(location_months_df[location_months_df['month'] == (i + 1)])\n",
    "    \n",
    "    for index, row in location_sel.iterrows():\n",
    "        colour = col_array[i]\n",
    "        folium.CircleMarker([row['latitude'], row['longitude']], radius=3, color=colour, fill_color=colour, ).add_to(map)\n",
    "        map.add_child(legend)\n",
    "        map.save(('locations_{month}_2017.html').format(month=months_array[i]))   "
   ]
  },
  {
   "cell_type": "code",
   "execution_count": null,
   "metadata": {},
   "outputs": [],
   "source": []
  }
 ],
 "metadata": {
  "kernelspec": {
   "display_name": "Python 3",
   "language": "python",
   "name": "python3"
  },
  "language_info": {
   "codemirror_mode": {
    "name": "ipython",
    "version": 3
   },
   "file_extension": ".py",
   "mimetype": "text/x-python",
   "name": "python",
   "nbconvert_exporter": "python",
   "pygments_lexer": "ipython3",
   "version": "3.7.3"
  }
 },
 "nbformat": 4,
 "nbformat_minor": 2
}
